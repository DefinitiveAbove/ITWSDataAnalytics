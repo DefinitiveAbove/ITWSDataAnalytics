{
 "cells": [
  {
   "cell_type": "code",
   "execution_count": 1,
   "metadata": {},
   "outputs": [],
   "source": [
    "# Load dataset\n",
    "import netCDF4 as nc\n",
    "\n",
    "# Open the file\n",
    "ds = nc.Dataset('./power_901_annual_meteorology_utc.nc.nc4')"
   ]
  },
  {
   "cell_type": "code",
   "execution_count": 2,
   "metadata": {},
   "outputs": [
    {
     "name": "stdout",
     "output_type": "stream",
     "text": [
      "{'time': <class 'netCDF4._netCDF4.Variable'>\n",
      "int32 time(time)\n",
      "    units: years since 1981-12-31 00:00:00\n",
      "    long_name: time\n",
      "unlimited dimensions: \n",
      "current shape = (2,)\n",
      "filling on, default _FillValue of -2147483647 used, 'lat': <class 'netCDF4._netCDF4.Variable'>\n",
      "float64 lat(lat)\n",
      "    _FillValue: -999.0\n",
      "    long_name: latitude\n",
      "    standard_name: latitude\n",
      "    units: degrees_north\n",
      "unlimited dimensions: \n",
      "current shape = (361,)\n",
      "filling on, 'lon': <class 'netCDF4._netCDF4.Variable'>\n",
      "float64 lon(lon)\n",
      "    _FillValue: -999.0\n",
      "    long_name: longitude\n",
      "    standard_name: longitude\n",
      "    units: degrees_east\n",
      "unlimited dimensions: \n",
      "current shape = (576,)\n",
      "filling on, 'RH2M': <class 'netCDF4._netCDF4.Variable'>\n",
      "float64 RH2M(time, lat, lon)\n",
      "    _FillValue: -999.0\n",
      "    long_name: Relative Humidity at 2 Meters\n",
      "    standard_name: Relative_Humidity_at_2_Meters\n",
      "    units: %\n",
      "    valid_max: 100.0\n",
      "    valid_min: 0.0\n",
      "    valid_range: [  0. 100.]\n",
      "unlimited dimensions: \n",
      "current shape = (2, 361, 576)\n",
      "filling on, 'T2M': <class 'netCDF4._netCDF4.Variable'>\n",
      "float64 T2M(time, lat, lon)\n",
      "    _FillValue: -999.0\n",
      "    long_name: Temperature at 2 Meters\n",
      "    standard_name: Temperature_at_2_Meters\n",
      "    units: K\n",
      "    valid_max: 350.0\n",
      "    valid_min: 150.0\n",
      "    valid_range: [150. 350.]\n",
      "unlimited dimensions: \n",
      "current shape = (2, 361, 576)\n",
      "filling on, 'PS': <class 'netCDF4._netCDF4.Variable'>\n",
      "float64 PS(time, lat, lon)\n",
      "    _FillValue: -999.0\n",
      "    long_name: Surface Pressure\n",
      "    standard_name: Surface_Pressure\n",
      "    units: Pa\n",
      "    valid_max: 110000.0\n",
      "    valid_min: 50000.0\n",
      "    valid_range: [ 50000. 110000.]\n",
      "unlimited dimensions: \n",
      "current shape = (2, 361, 576)\n",
      "filling on, 'PRECTOTCORR_SUM': <class 'netCDF4._netCDF4.Variable'>\n",
      "float64 PRECTOTCORR_SUM(time, lat, lon)\n",
      "    _FillValue: -999.0\n",
      "    long_name: Precipitation Corrected Sum\n",
      "    standard_name: Precipitation_Corrected_Sum\n",
      "    units: kg m-2 s-1\n",
      "unlimited dimensions: \n",
      "current shape = (2, 361, 576)\n",
      "filling on}\n"
     ]
    }
   ],
   "source": [
    "# Print the variables and dimensions in the file\n",
    "print(ds.variables)"
   ]
  },
  {
   "cell_type": "code",
   "execution_count": 3,
   "metadata": {},
   "outputs": [
    {
     "name": "stdout",
     "output_type": "stream",
     "text": [
      "{'time': <class 'netCDF4._netCDF4.Dimension'>: name = 'time', size = 2, 'lat': <class 'netCDF4._netCDF4.Dimension'>: name = 'lat', size = 361, 'lon': <class 'netCDF4._netCDF4.Dimension'>: name = 'lon', size = 576}\n"
     ]
    }
   ],
   "source": [
    "print(ds.dimensions)"
   ]
  },
  {
   "cell_type": "code",
   "execution_count": 4,
   "metadata": {},
   "outputs": [
    {
     "name": "stdout",
     "output_type": "stream",
     "text": [
      "-180.0 179.375\n",
      "38 39\n"
     ]
    }
   ],
   "source": [
    "# print lowest and highest longitude and latitude\n",
    "print(ds.variables['lon'][:].min(), ds.variables['lon'][:].max())\n",
    "# print lowest and highest time\n",
    "print(ds.variables['time'][:].min(), ds.variables['time'][:].max())"
   ]
  },
  {
   "cell_type": "code",
   "execution_count": 5,
   "metadata": {},
   "outputs": [],
   "source": [
    "from numpy.ma import masked\n",
    "\n",
    "finalOutput = dict()\n",
    "\n",
    "timeItems = ds.variables['time'][:]\n",
    "latItems = ds.variables['lat'][:]\n",
    "lonItems = ds.variables['lon'][:]\n",
    "\n",
    "variableTargets = [\"RH2M\", \"T2M\", \"PS\", \"PRECTOTCORR_SUM\"]\n",
    "\n",
    "for target in variableTargets:\n",
    "    targetItems = ds.variables[target][:]\n",
    "    for x in range(len(timeItems)):\n",
    "        for y in range(len(latItems)):\n",
    "            for z in range(len(lonItems)):\n",
    "                val = targetItems[x][y][z]\n",
    "                if val is masked:\n",
    "                    continue\n",
    "\n",
    "                lat = float(latItems[y])\n",
    "                lon = float(lonItems[z])\n",
    "                if lat not in finalOutput:\n",
    "                    finalOutput[lat] = dict()\n",
    "                if lon not in finalOutput[lat]:\n",
    "                    finalOutput[lat][lon] = dict()\n",
    "                if target not in finalOutput[lat][lon]:\n",
    "                    finalOutput[lat][lon][target] = [0, 0]\n",
    "                finalOutput[lat][lon][target][0] += val\n",
    "                finalOutput[lat][lon][target][1] += 1\n",
    "results = []\n",
    "for lat in finalOutput:\n",
    "    for lon in finalOutput[lat]:\n",
    "        result = [lat, lon]\n",
    "        for target in variableTargets:\n",
    "            result.append(finalOutput[lat][lon][target][0] / finalOutput[lat][lon][target][1])\n",
    "        results.append(result)\n",
    "results.sort()\n",
    "with open(\"meterology.csv\", \"w\") as file:\n",
    "    file.write(\",\".join([\"lat\", \"lon\"] + variableTargets))\n",
    "    file.write(\"\\n\")\n",
    "    for result in results:\n",
    "        file.write(\",\".join([str(x) for x in result]))\n",
    "        file.write(\"\\n\")            \n"
   ]
  }
 ],
 "metadata": {
  "kernelspec": {
   "display_name": "Python 3",
   "language": "python",
   "name": "python3"
  },
  "language_info": {
   "codemirror_mode": {
    "name": "ipython",
    "version": 3
   },
   "file_extension": ".py",
   "mimetype": "text/x-python",
   "name": "python",
   "nbconvert_exporter": "python",
   "pygments_lexer": "ipython3",
   "version": "3.9.0"
  },
  "orig_nbformat": 4
 },
 "nbformat": 4,
 "nbformat_minor": 2
}
