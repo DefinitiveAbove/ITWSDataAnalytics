{
 "cells": [
  {
   "cell_type": "code",
   "execution_count": 5,
   "metadata": {},
   "outputs": [],
   "source": [
    "# Load dataset\n",
    "import netCDF4 as nc\n",
    "\n",
    "# Open the file\n",
    "ds = nc.Dataset('./cru_ts4.07.2011.2020.cld.dat.nc')"
   ]
  },
  {
   "cell_type": "code",
   "execution_count": 6,
   "metadata": {},
   "outputs": [
    {
     "name": "stdout",
     "output_type": "stream",
     "text": [
      "{'lon': <class 'netCDF4._netCDF4.Variable'>\n",
      "float32 lon(lon)\n",
      "    long_name: longitude\n",
      "    units: degrees_east\n",
      "unlimited dimensions: \n",
      "current shape = (720,)\n",
      "filling on, default _FillValue of 9.969209968386869e+36 used, 'lat': <class 'netCDF4._netCDF4.Variable'>\n",
      "float32 lat(lat)\n",
      "    long_name: latitude\n",
      "    units: degrees_north\n",
      "unlimited dimensions: \n",
      "current shape = (360,)\n",
      "filling on, default _FillValue of 9.969209968386869e+36 used, 'time': <class 'netCDF4._netCDF4.Variable'>\n",
      "float32 time(time)\n",
      "    long_name: time\n",
      "    units: days since 1900-1-1\n",
      "    calendar: gregorian\n",
      "unlimited dimensions: time\n",
      "current shape = (120,)\n",
      "filling on, default _FillValue of 9.969209968386869e+36 used, 'cld': <class 'netCDF4._netCDF4.Variable'>\n",
      "float32 cld(time, lat, lon)\n",
      "    long_name: cloud cover\n",
      "    units: percentage\n",
      "    correlation_decay_distance: 600.0\n",
      "    _FillValue: 9.96921e+36\n",
      "    missing_value: 9.96921e+36\n",
      "unlimited dimensions: time\n",
      "current shape = (120, 360, 720)\n",
      "filling on, 'stn': <class 'netCDF4._netCDF4.Variable'>\n",
      "int32 stn(time, lat, lon)\n",
      "    description: pre-2003, size of station pool from which three are used for each datum); 2003 onwards, number of stations contributing to each datum\n",
      "    _FillValue: -999\n",
      "    missing_value: -999\n",
      "unlimited dimensions: time\n",
      "current shape = (120, 360, 720)\n",
      "filling on}\n"
     ]
    }
   ],
   "source": [
    "# Print the variables and dimensions in the file\n",
    "print(ds.variables)"
   ]
  },
  {
   "cell_type": "code",
   "execution_count": 7,
   "metadata": {},
   "outputs": [
    {
     "name": "stdout",
     "output_type": "stream",
     "text": [
      "{'lon': <class 'netCDF4._netCDF4.Dimension'>: name = 'lon', size = 720, 'lat': <class 'netCDF4._netCDF4.Dimension'>: name = 'lat', size = 360, 'time': <class 'netCDF4._netCDF4.Dimension'> (unlimited): name = 'time', size = 120}\n"
     ]
    }
   ],
   "source": [
    "print(ds.dimensions)"
   ]
  },
  {
   "cell_type": "code",
   "execution_count": 8,
   "metadata": {},
   "outputs": [
    {
     "name": "stdout",
     "output_type": "stream",
     "text": [
      "-179.75 179.75\n",
      "40557.0 44179.0\n"
     ]
    }
   ],
   "source": [
    "# print lowest and highest longitude and latitude\n",
    "print(ds.variables['lon'][:].min(), ds.variables['lon'][:].max())\n",
    "# print lowest and highest time\n",
    "print(ds.variables['time'][:].min(), ds.variables['time'][:].max())"
   ]
  },
  {
   "cell_type": "code",
   "execution_count": 9,
   "metadata": {},
   "outputs": [],
   "source": [
    "from numpy.ma import masked\n",
    "import datetime\n",
    "\n",
    "start = datetime.datetime(1900, 1, 1)\n",
    "finalOutput = dict()\n",
    "\n",
    "timeItems = ds.variables['time'][:]\n",
    "cldItems = ds.variables['cld'][:]\n",
    "latItems = ds.variables['lat'][:]\n",
    "lonItems = ds.variables['lon'][:]\n",
    "\n",
    "for x in range(len(timeItems)):\n",
    "    dsRawTime = timeItems[x]\n",
    "    dsTime = start + datetime.timedelta(days=int(dsRawTime))\n",
    "    if dsTime.year != 2019 and dsTime.year != 2020:\n",
    "        continue\n",
    "\n",
    "    for y in range(len(latItems)):\n",
    "        for z in range(len(lonItems)):\n",
    "            val = cldItems[x][y][z]\n",
    "            if val is masked:\n",
    "                continue\n",
    "\n",
    "            lat = float(latItems[y])\n",
    "            lon = float(lonItems[z])\n",
    "            if lat not in finalOutput:\n",
    "                finalOutput[lat] = dict()\n",
    "            if lon not in finalOutput[lat]:\n",
    "                finalOutput[lat][lon] = [0, 0]\n",
    "            finalOutput[lat][lon][0] += val\n",
    "            finalOutput[lat][lon][1] += 1\n",
    "results = []\n",
    "for lat in finalOutput:\n",
    "    for lon in finalOutput[lat]:\n",
    "        results.append([lat, lon, finalOutput[lat][lon][0] / finalOutput[lat][lon][1]])\n",
    "results.sort()\n",
    "with open(\"cloud_cover.csv\", \"w\") as file:\n",
    "    file.write(\",\".join([\"lat\", \"lon\", \"cld\"]))\n",
    "    file.write(\"\\n\")\n",
    "    for result in results:\n",
    "        file.write(\",\".join([str(x) for x in result]))\n",
    "        file.write(\"\\n\")            \n"
   ]
  }
 ],
 "metadata": {
  "kernelspec": {
   "display_name": "Python 3",
   "language": "python",
   "name": "python3"
  },
  "language_info": {
   "codemirror_mode": {
    "name": "ipython",
    "version": 3
   },
   "file_extension": ".py",
   "mimetype": "text/x-python",
   "name": "python",
   "nbconvert_exporter": "python",
   "pygments_lexer": "ipython3",
   "version": "3.9.0"
  },
  "orig_nbformat": 4
 },
 "nbformat": 4,
 "nbformat_minor": 2
}
